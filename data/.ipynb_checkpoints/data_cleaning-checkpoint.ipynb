{
 "cells": [
  {
   "cell_type": "code",
   "execution_count": 48,
   "metadata": {},
   "outputs": [],
   "source": [
    "import json\n",
    "import functools"
   ]
  },
  {
   "cell_type": "code",
   "execution_count": 130,
   "metadata": {},
   "outputs": [],
   "source": [
    "businesses = []\n",
    "with open('/Users/codechrysalis/Downloads/yelp_dataset/business.json', 'r') as json_file:\n",
    "    for line in json_file:\n",
    "        businesses.append(json.loads(line))\n",
    "photos = []\n",
    "with open('/Users/codechrysalis/Downloads/yelp_dataset/photo.json', 'r') as json_file:\n",
    "    for line in json_file:\n",
    "        photos.append(json.loads(line))"
   ]
  },
  {
   "cell_type": "code",
   "execution_count": 51,
   "metadata": {},
   "outputs": [],
   "source": [
    "def filterChineseRestaurants(business):\n",
    "    is_open = business[\"is_open\"]\n",
    "    stars = business[\"stars\"]\n",
    "    categories = business[\"categories\"]\n",
    "    if categories:\n",
    "        categories = categories.split(\", \")\n",
    "        if \"Chinese\" in categories and \"Restaurants\" in categories and is_open == 1 and stars >= 3:\n",
    "            return True\n",
    "        else:\n",
    "            return False\n",
    "    else:\n",
    "        return False\n",
    "\n",
    "chinese_restaurants = list(filter(filterChineseRestaurants, businesses))"
   ]
  },
  {
   "cell_type": "code",
   "execution_count": null,
   "metadata": {},
   "outputs": [],
   "source": [
    "data = []\n",
    "for chinese_restaurant in chinese_restaurants:\n",
    "    try :\n",
    "        attributes = chinese_restaurant[\"attributes\"]\n",
    "        ambience = json.loads(attributes[\"Ambience\"].replace(\"'\", '\"').replace(\"False\", \"0\").replace(\"True\", \"1\"))\n",
    "        data.append({\n",
    "            \"id\": chinese_restaurant[\"business_id\"],\n",
    "            \"name\": chinese_restaurant[\"name\"],\n",
    "            \"address\": chinese_restaurant[\"address\"],\n",
    "            \"city\": chinese_restaurant[\"city\"],\n",
    "            \"state\": chinese_restaurant[\"state\"],\n",
    "            \"postal_code\": chinese_restaurant[\"postal_code\"],      \n",
    "            \"latitude\": chinese_restaurant[\"latitude\"],\n",
    "            \"longitude\": chinese_restaurant[\"longitude\"],\n",
    "            \"stars\": chinese_restaurant[\"stars\"],\n",
    "            \"review_count\": chinese_restaurant[\"review_count\"],    \n",
    "            \"noise_level\": attributes[\"NoiseLevel\"].replace(\"u'\", \"\").replace(\"'\", \"\"),\n",
    "            \"price_range\": attributes[\"RestaurantsPriceRange2\"],\n",
    "            \"has_take_out\": attributes[\"RestaurantsTakeOut\"],\n",
    "            \"has_delivery_service\": attributes[\"RestaurantsDelivery\"],\n",
    "            \"has_parking_space\": any(json.loads(attributes[\"BusinessParking\"].replace(\"'\", '\"').replace(\"False\", \"0\").replace(\"True\", \"1\")).values()),\n",
    "            \"reservation_needed\": attributes[\"RestaurantsReservations\"],\n",
    "            \"romantic\": ambience[\"romantic\"],\n",
    "            \"intimate\": ambience[\"intimate\"],\n",
    "            \"classy\": ambience[\"classy\"],\n",
    "            \"trendy\": ambience[\"trendy\"],\n",
    "            \"upscale\": ambience[\"upscale\"],\n",
    "            \"casual\": ambience[\"casual\"],\n",
    "            \"categories\": chinese_restaurant[\"categories\"]\n",
    "        })\n",
    "        i += 1\n",
    "    except:\n",
    "        continue"
   ]
  },
  {
   "cell_type": "code",
   "execution_count": 142,
   "metadata": {},
   "outputs": [],
   "source": [
    "for photo in photos:\n",
    "    business_id = photo[\"business_id\"]\n",
    "    photo_id = photo[\"photo_id\"]\n",
    "    for item in data:\n",
    "        if item[\"id\"] == business_id:\n",
    "            item[\"photo_id\"] = photo_id"
   ]
  },
  {
   "cell_type": "code",
   "execution_count": 122,
   "metadata": {},
   "outputs": [],
   "source": [
    "def tableGenerator(key):\n",
    "    ls = sorted(list(set([data[key] for data in data]))) # To get a sorted list of strings with no duplicates\n",
    "    t = []\n",
    "    for i in range(len(ls)):\n",
    "        t.append({\n",
    "            \"id\": i + 1,\n",
    "            \"name\": ls[i]\n",
    "        })\n",
    "    return t\n",
    "\n",
    "states = tableGenerator(\"state\")\n",
    "cities = tableGenerator(\"city\")"
   ]
  },
  {
   "cell_type": "code",
   "execution_count": 118,
   "metadata": {},
   "outputs": [],
   "source": [
    "def tableGenerator2(key):\n",
    "    flatten = lambda l: [item for sublist in l for item in sublist]\n",
    "    ls = sorted(list(set(flatten([data[key].split(\", \") for data in data])))) # To get a sorted list of strings with no duplicates\n",
    "    t = []\n",
    "    for i in range(len(ls)):\n",
    "        t.append({\n",
    "            \"id\": i + 1,\n",
    "            \"name\": ls[i]\n",
    "        })\n",
    "    return t\n",
    "\n",
    "categories = tableGenerator2(\"categories\")"
   ]
  },
  {
   "cell_type": "code",
   "execution_count": 120,
   "metadata": {},
   "outputs": [
    {
     "name": "stdout",
     "output_type": "stream",
     "text": [
      "[{'id': 1, 'name': 'AB'}, {'id': 2, 'name': 'AZ'}, {'id': 3, 'name': 'IL'}, {'id': 4, 'name': 'NC'}, {'id': 5, 'name': 'NV'}, {'id': 6, 'name': 'OH'}, {'id': 7, 'name': 'ON'}, {'id': 8, 'name': 'PA'}, {'id': 9, 'name': 'QC'}, {'id': 10, 'name': 'SC'}, {'id': 11, 'name': 'WI'}]\n",
      "[{'id': 1, 'name': 'Airdrie'}, {'id': 2, 'name': 'Ajax'}, {'id': 3, 'name': 'Akron'}, {'id': 4, 'name': 'Amherst'}, {'id': 5, 'name': 'Arnold'}, {'id': 6, 'name': 'Aurora'}, {'id': 7, 'name': 'Avon'}, {'id': 8, 'name': 'Avon Lake'}, {'id': 9, 'name': 'Avondale'}, {'id': 10, 'name': 'Bay Village'}, {'id': 11, 'name': 'Beachwood'}, {'id': 12, 'name': 'Bedford'}, {'id': 13, 'name': 'Bellevue'}, {'id': 14, 'name': 'Belmont'}, {'id': 15, 'name': 'Berea'}, {'id': 16, 'name': 'Bethel Park'}, {'id': 17, 'name': 'Bolton'}, {'id': 18, 'name': 'Boulder City'}, {'id': 19, 'name': 'Brampton'}, {'id': 20, 'name': 'Brecksville'}, {'id': 21, 'name': 'Bridgeville'}, {'id': 22, 'name': 'Broadview Heights'}, {'id': 23, 'name': 'Brossard'}, {'id': 24, 'name': 'Brunswick'}, {'id': 25, 'name': 'Calgary'}, {'id': 26, 'name': 'Canonsburg'}, {'id': 27, 'name': 'Cave Creek'}, {'id': 28, 'name': 'Chagrin Falls'}, {'id': 29, 'name': 'Champaign'}, {'id': 30, 'name': 'Chandler'}, {'id': 31, 'name': 'Chardon'}, {'id': 32, 'name': 'Charlotte'}, {'id': 33, 'name': 'Chesterland'}, {'id': 34, 'name': 'Cleveland'}, {'id': 35, 'name': 'Cleveland Heights'}, {'id': 36, 'name': 'Concord'}, {'id': 37, 'name': 'Coraopolis'}, {'id': 38, 'name': 'Cornelius'}, {'id': 39, 'name': 'Cottage Grove'}, {'id': 40, 'name': 'Cramerton'}, {'id': 41, 'name': 'Cross Plains'}, {'id': 42, 'name': 'Cuyahoga Falls'}, {'id': 43, 'name': 'DeForest'}, {'id': 44, 'name': 'Denver'}, {'id': 45, 'name': 'Dollard-des-Ormeaux'}, {'id': 46, 'name': 'East York'}, {'id': 47, 'name': 'Eastlake'}, {'id': 48, 'name': 'Elyria'}, {'id': 49, 'name': 'Etobicoke'}, {'id': 50, 'name': 'Euclid'}, {'id': 51, 'name': 'Fairlawn'}, {'id': 52, 'name': 'Fitchburg'}, {'id': 53, 'name': 'Fort Mill'}, {'id': 54, 'name': 'Fountain Hills'}, {'id': 55, 'name': 'Gastonia'}, {'id': 56, 'name': 'Georgetown'}, {'id': 57, 'name': 'Gibsonia'}, {'id': 58, 'name': 'Gilbert'}, {'id': 59, 'name': 'Glassport'}, {'id': 60, 'name': 'Glendale'}, {'id': 61, 'name': 'Goodyear'}, {'id': 62, 'name': 'Hampton Township'}, {'id': 63, 'name': 'Harrisburg'}, {'id': 64, 'name': 'Henderson'}, {'id': 65, 'name': 'Homestead'}, {'id': 66, 'name': 'Hudson'}, {'id': 67, 'name': 'Huntersville'}, {'id': 68, 'name': 'Independence'}, {'id': 69, 'name': 'Indian Trail'}, {'id': 70, 'name': 'Indian land'}, {'id': 71, 'name': 'Irwin'}, {'id': 72, 'name': 'Kannapolis'}, {'id': 73, 'name': 'Kent'}, {'id': 74, 'name': \"L'Île-Perrot\"}, {'id': 75, 'name': 'LaSalle'}, {'id': 76, 'name': 'Lakewood'}, {'id': 77, 'name': 'Las Vegas'}, {'id': 78, 'name': 'Laval'}, {'id': 79, 'name': 'Litchfield Park'}, {'id': 80, 'name': 'Lorain'}, {'id': 81, 'name': 'Madison'}, {'id': 82, 'name': 'Mahomet'}, {'id': 83, 'name': 'Maple'}, {'id': 84, 'name': 'Maple Heights'}, {'id': 85, 'name': 'Markham'}, {'id': 86, 'name': 'Matthews'}, {'id': 87, 'name': 'Mc Donald'}, {'id': 88, 'name': 'Mc Farland'}, {'id': 89, 'name': 'McKeesport'}, {'id': 90, 'name': 'McMasterville'}, {'id': 91, 'name': 'McMurray'}, {'id': 92, 'name': 'Medina'}, {'id': 93, 'name': 'Mentor'}, {'id': 94, 'name': 'Mentor-on-the-Lake'}, {'id': 95, 'name': 'Mesa'}, {'id': 96, 'name': 'Middlefield'}, {'id': 97, 'name': 'Middleton'}, {'id': 98, 'name': 'Mississauga'}, {'id': 99, 'name': 'Mississuaga'}, {'id': 100, 'name': 'Monona'}, {'id': 101, 'name': 'Monroeville'}, {'id': 102, 'name': 'Montreal'}, {'id': 103, 'name': 'Montréal'}, {'id': 104, 'name': 'Mooresville'}, {'id': 105, 'name': 'Mount Holly'}, {'id': 106, 'name': 'Munhall'}, {'id': 107, 'name': 'Murrysville'}, {'id': 108, 'name': 'New Kensington'}, {'id': 109, 'name': 'Newmarket'}, {'id': 110, 'name': 'North Las Vegas'}, {'id': 111, 'name': 'North Olmsted'}, {'id': 112, 'name': 'North Ridgeville'}, {'id': 113, 'name': 'North Royalton'}, {'id': 114, 'name': 'North York'}, {'id': 115, 'name': 'Northfield'}, {'id': 116, 'name': 'Oakdale'}, {'id': 117, 'name': 'Oakland'}, {'id': 118, 'name': 'Oakmont'}, {'id': 119, 'name': 'Oakville'}, {'id': 120, 'name': 'Olmsted Falls'}, {'id': 121, 'name': 'Paradise Valley'}, {'id': 122, 'name': 'Parma'}, {'id': 123, 'name': 'Parma Heights'}, {'id': 124, 'name': 'Peoria'}, {'id': 125, 'name': 'Phoenix'}, {'id': 126, 'name': 'Pickering'}, {'id': 127, 'name': 'Pineville'}, {'id': 128, 'name': 'Pittsburgh'}, {'id': 129, 'name': 'Pleasant Hills'}, {'id': 130, 'name': 'Pointe-Claire'}, {'id': 131, 'name': 'Rexdale'}, {'id': 132, 'name': 'Richmond Hill'}, {'id': 133, 'name': 'Rock Hill'}, {'id': 134, 'name': 'Rocky River'}, {'id': 135, 'name': 'Saint-Jérôme'}, {'id': 136, 'name': 'Saint-Laurent'}, {'id': 137, 'name': 'Saint-Léonard'}, {'id': 138, 'name': 'Savoy'}, {'id': 139, 'name': 'Scarborough'}, {'id': 140, 'name': 'Scottsdale'}, {'id': 141, 'name': 'Sewickley'}, {'id': 142, 'name': 'Shaker Heights'}, {'id': 143, 'name': 'Shaler Township'}, {'id': 144, 'name': 'Solon'}, {'id': 145, 'name': 'South Euclid'}, {'id': 146, 'name': 'Stallings'}, {'id': 147, 'name': 'Stouffville'}, {'id': 148, 'name': 'Stoughton'}, {'id': 149, 'name': 'Stow'}, {'id': 150, 'name': 'Streetsboro'}, {'id': 151, 'name': 'Strongsville'}, {'id': 152, 'name': 'Sun City'}, {'id': 153, 'name': 'Sun City West'}, {'id': 154, 'name': 'Sun Lakes'}, {'id': 155, 'name': 'Surprise'}, {'id': 156, 'name': 'Tallmadge'}, {'id': 157, 'name': 'Tarentum'}, {'id': 158, 'name': 'Tempe'}, {'id': 159, 'name': 'Thornhill'}, {'id': 160, 'name': 'Tolleson'}, {'id': 161, 'name': 'Toronto'}, {'id': 162, 'name': 'Twinsburg'}, {'id': 163, 'name': 'Unionville'}, {'id': 164, 'name': 'Urbana'}, {'id': 165, 'name': 'Vaughan'}, {'id': 166, 'name': 'Verdun'}, {'id': 167, 'name': 'Verona'}, {'id': 168, 'name': 'Warrensville Heights'}, {'id': 169, 'name': 'Waunakee'}, {'id': 170, 'name': 'Waxhaw'}, {'id': 171, 'name': 'Wesley Chapel'}, {'id': 172, 'name': 'West Homestead'}, {'id': 173, 'name': 'West Mifflin'}, {'id': 174, 'name': 'West View'}, {'id': 175, 'name': 'Westlake'}, {'id': 176, 'name': 'Wexford'}, {'id': 177, 'name': 'Whitby'}, {'id': 178, 'name': 'Wickliffe'}, {'id': 179, 'name': 'Willoughby'}, {'id': 180, 'name': 'Willoughby Hills'}, {'id': 181, 'name': 'Willowick'}, {'id': 182, 'name': 'York'}, {'id': 183, 'name': 'springdale'}]\n",
      "[{'id': 1, 'name': 'Active Life'}, {'id': 2, 'name': 'African'}, {'id': 3, 'name': 'American (New)'}, {'id': 4, 'name': 'American (Traditional)'}, {'id': 5, 'name': 'Arabian'}, {'id': 6, 'name': 'Archery'}, {'id': 7, 'name': 'Armenian'}, {'id': 8, 'name': 'Arts & Entertainment'}, {'id': 9, 'name': 'Asian Fusion'}, {'id': 10, 'name': 'Austrian'}, {'id': 11, 'name': 'Bakeries'}, {'id': 12, 'name': 'Barbeque'}, {'id': 13, 'name': 'Bars'}, {'id': 14, 'name': 'Beauty & Spas'}, {'id': 15, 'name': 'Beer'}, {'id': 16, 'name': 'Beer Bar'}, {'id': 17, 'name': 'Breakfast & Brunch'}, {'id': 18, 'name': 'Bubble Tea'}, {'id': 19, 'name': 'Buffets'}, {'id': 20, 'name': 'Burgers'}, {'id': 21, 'name': 'Cafes'}, {'id': 22, 'name': 'Cambodian'}, {'id': 23, 'name': 'Canadian (New)'}, {'id': 24, 'name': 'Cantonese'}, {'id': 25, 'name': 'Caribbean'}, {'id': 26, 'name': 'Casinos'}, {'id': 27, 'name': 'Caterers'}, {'id': 28, 'name': 'Chicken Shop'}, {'id': 29, 'name': 'Chicken Wings'}, {'id': 30, 'name': 'Chinese'}, {'id': 31, 'name': 'Cocktail Bars'}, {'id': 32, 'name': 'Coffee & Tea'}, {'id': 33, 'name': 'Comfort Food'}, {'id': 34, 'name': 'Creperies'}, {'id': 35, 'name': 'Custom Cakes'}, {'id': 36, 'name': 'DJs'}, {'id': 37, 'name': 'Dance Clubs'}, {'id': 38, 'name': 'Day Spas'}, {'id': 39, 'name': 'Delis'}, {'id': 40, 'name': 'Desserts'}, {'id': 41, 'name': 'Dim Sum'}, {'id': 42, 'name': 'Diners'}, {'id': 43, 'name': 'Dive Bars'}, {'id': 44, 'name': 'Do-It-Yourself Food'}, {'id': 45, 'name': 'Donuts'}, {'id': 46, 'name': 'Dry Cleaning & Laundry'}, {'id': 47, 'name': 'Education'}, {'id': 48, 'name': 'Ethnic Food'}, {'id': 49, 'name': 'Event Planning & Services'}, {'id': 50, 'name': 'Fast Food'}, {'id': 51, 'name': 'Filipino'}, {'id': 52, 'name': 'Fish & Chips'}, {'id': 53, 'name': 'Fondue'}, {'id': 54, 'name': 'Food'}, {'id': 55, 'name': 'Food Court'}, {'id': 56, 'name': 'Food Delivery Services'}, {'id': 57, 'name': 'Food Stands'}, {'id': 58, 'name': 'Food Trucks'}, {'id': 59, 'name': 'French'}, {'id': 60, 'name': 'Gluten-Free'}, {'id': 61, 'name': 'Greek'}, {'id': 62, 'name': 'Grocery'}, {'id': 63, 'name': 'Hakka'}, {'id': 64, 'name': 'Halal'}, {'id': 65, 'name': 'Hawaiian'}, {'id': 66, 'name': 'Himalayan/Nepalese'}, {'id': 67, 'name': 'Home & Garden'}, {'id': 68, 'name': 'Honduran'}, {'id': 69, 'name': 'Hong Kong Style Cafe'}, {'id': 70, 'name': 'Hookah Bars'}, {'id': 71, 'name': 'Hot Dogs'}, {'id': 72, 'name': 'Hot Pot'}, {'id': 73, 'name': 'Hotels'}, {'id': 74, 'name': 'Hotels & Travel'}, {'id': 75, 'name': 'Ice Cream & Frozen Yogurt'}, {'id': 76, 'name': 'Imported Food'}, {'id': 77, 'name': 'Indian'}, {'id': 78, 'name': 'International'}, {'id': 79, 'name': 'Irish'}, {'id': 80, 'name': 'Italian'}, {'id': 81, 'name': 'Izakaya'}, {'id': 82, 'name': 'Japanese'}, {'id': 83, 'name': 'Juice Bars & Smoothies'}, {'id': 84, 'name': 'Karaoke'}, {'id': 85, 'name': 'Kebab'}, {'id': 86, 'name': 'Kitchen & Bath'}, {'id': 87, 'name': 'Korean'}, {'id': 88, 'name': 'Kosher'}, {'id': 89, 'name': 'Laotian'}, {'id': 90, 'name': 'Latin American'}, {'id': 91, 'name': 'Lebanese'}, {'id': 92, 'name': 'Limos'}, {'id': 93, 'name': 'Live/Raw Food'}, {'id': 94, 'name': 'Local Flavor'}, {'id': 95, 'name': 'Local Services'}, {'id': 96, 'name': 'Lounges'}, {'id': 97, 'name': 'Malaysian'}, {'id': 98, 'name': 'Mediterranean'}, {'id': 99, 'name': 'Mexican'}, {'id': 100, 'name': 'Middle Eastern'}, {'id': 101, 'name': 'Modern European'}, {'id': 102, 'name': 'Mongolian'}, {'id': 103, 'name': 'New Mexican Cuisine'}, {'id': 104, 'name': 'Nightlife'}, {'id': 105, 'name': 'Noodles'}, {'id': 106, 'name': 'Opera & Ballet'}, {'id': 107, 'name': 'Pakistani'}, {'id': 108, 'name': 'Pan Asian'}, {'id': 109, 'name': 'Party & Event Planning'}, {'id': 110, 'name': 'Pasta Shops'}, {'id': 111, 'name': 'Performing Arts'}, {'id': 112, 'name': 'Persian/Iranian'}, {'id': 113, 'name': 'Peruvian'}, {'id': 114, 'name': 'Pizza'}, {'id': 115, 'name': 'Poke'}, {'id': 116, 'name': 'Portuguese'}, {'id': 117, 'name': 'Pubs'}, {'id': 118, 'name': 'Ramen'}, {'id': 119, 'name': 'Restaurants'}, {'id': 120, 'name': 'Salad'}, {'id': 121, 'name': 'Sandwiches'}, {'id': 122, 'name': 'Seafood'}, {'id': 123, 'name': 'Seafood Markets'}, {'id': 124, 'name': 'Septic Services'}, {'id': 125, 'name': 'Shanghainese'}, {'id': 126, 'name': 'Shaved Ice'}, {'id': 127, 'name': 'Shopping'}, {'id': 128, 'name': 'Shopping Centers'}, {'id': 129, 'name': 'Singaporean'}, {'id': 130, 'name': 'Social Clubs'}, {'id': 131, 'name': 'Soul Food'}, {'id': 132, 'name': 'Soup'}, {'id': 133, 'name': 'Southern'}, {'id': 134, 'name': 'Spanish'}, {'id': 135, 'name': 'Specialty Food'}, {'id': 136, 'name': 'Sports Bars'}, {'id': 137, 'name': 'Sri Lankan'}, {'id': 138, 'name': 'Steakhouses'}, {'id': 139, 'name': 'Street Vendors'}, {'id': 140, 'name': 'Sushi Bars'}, {'id': 141, 'name': 'Szechuan'}, {'id': 142, 'name': 'Taiwanese'}, {'id': 143, 'name': 'Tapas Bars'}, {'id': 144, 'name': 'Tapas/Small Plates'}, {'id': 145, 'name': 'Tea Rooms'}, {'id': 146, 'name': 'Teppanyaki'}, {'id': 147, 'name': 'Thai'}, {'id': 148, 'name': 'Town Car Service'}, {'id': 149, 'name': 'Transportation'}, {'id': 150, 'name': 'Vegan'}, {'id': 151, 'name': 'Vegetarian'}, {'id': 152, 'name': 'Venues & Event Spaces'}, {'id': 153, 'name': 'Vietnamese'}, {'id': 154, 'name': 'Waffles'}, {'id': 155, 'name': 'Wine & Spirits'}, {'id': 156, 'name': 'Wine Bars'}]\n"
     ]
    }
   ],
   "source": [
    "print(states)\n",
    "print(cities)\n",
    "print(categories)"
   ]
  },
  {
   "cell_type": "code",
   "execution_count": 115,
   "metadata": {},
   "outputs": [
    {
     "data": {
      "text/plain": [
       "837"
      ]
     },
     "execution_count": 115,
     "metadata": {},
     "output_type": "execute_result"
    }
   ],
   "source": [
    "url = \"https://s3-media1.fl.yelpcdn.com/bphoto/K3xBm37XKp20xGS6c438iw/o.jpg\""
   ]
  },
  {
   "cell_type": "code",
   "execution_count": 125,
   "metadata": {},
   "outputs": [],
   "source": [
    "with open(\"Desktop/ziyu/where-is-my-chinese-restaurant/data/cities.json\", 'w') as json_file:\n",
    "    json_file.write(json.dumps(cities))"
   ]
  },
  {
   "cell_type": "code",
   "execution_count": 126,
   "metadata": {},
   "outputs": [],
   "source": [
    "with open(\"Desktop/ziyu/where-is-my-chinese-restaurant/data/states.json\", 'w') as json_file:\n",
    "    json_file.write(json.dumps(states))"
   ]
  },
  {
   "cell_type": "code",
   "execution_count": 127,
   "metadata": {},
   "outputs": [],
   "source": [
    "with open(\"Desktop/ziyu/where-is-my-chinese-restaurant/data/categories.json\", 'w') as json_file:\n",
    "    json_file.write(json.dumps(categories))"
   ]
  },
  {
   "cell_type": "code",
   "execution_count": 148,
   "metadata": {},
   "outputs": [],
   "source": [
    "with open(\"Desktop/ziyu/where-is-my-chinese-restaurant/data/data.json\", 'w') as json_file:\n",
    "    json_file.write(json.dumps(data))"
   ]
  },
  {
   "cell_type": "code",
   "execution_count": null,
   "metadata": {},
   "outputs": [],
   "source": []
  }
 ],
 "metadata": {
  "kernelspec": {
   "display_name": "Python 3",
   "language": "python",
   "name": "python3"
  },
  "language_info": {
   "codemirror_mode": {
    "name": "ipython",
    "version": 3
   },
   "file_extension": ".py",
   "mimetype": "text/x-python",
   "name": "python",
   "nbconvert_exporter": "python",
   "pygments_lexer": "ipython3",
   "version": "3.7.4"
  }
 },
 "nbformat": 4,
 "nbformat_minor": 4
}
