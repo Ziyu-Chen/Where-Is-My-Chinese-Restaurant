{
 "cells": [
  {
   "cell_type": "code",
   "execution_count": 48,
   "metadata": {},
   "outputs": [],
   "source": [
    "import json\n",
    "import functools"
   ]
  },
  {
   "cell_type": "code",
   "execution_count": 130,
   "metadata": {},
   "outputs": [],
   "source": [
    "businesses = []\n",
    "with open('/Users/codechrysalis/Downloads/yelp_dataset/business.json', 'r') as json_file:\n",
    "    for line in json_file:\n",
    "        businesses.append(json.loads(line))\n",
    "photos = []\n",
    "with open('/Users/codechrysalis/Downloads/yelp_dataset/photo.json', 'r') as json_file:\n",
    "    for line in json_file:\n",
    "        photos.append(json.loads(line))"
   ]
  },
  {
   "cell_type": "code",
   "execution_count": 51,
   "metadata": {},
   "outputs": [],
   "source": [
    "def filterChineseRestaurants(business):\n",
    "    is_open = business[\"is_open\"]\n",
    "    stars = business[\"stars\"]\n",
    "    categories = business[\"categories\"]\n",
    "    if categories:\n",
    "        categories = categories.split(\", \")\n",
    "        if \"Chinese\" in categories and \"Restaurants\" in categories and is_open == 1 and stars >= 3:\n",
    "            return True\n",
    "        else:\n",
    "            return False\n",
    "    else:\n",
    "        return False\n",
    "\n",
    "chinese_restaurants = list(filter(filterChineseRestaurants, businesses))"
   ]
  },
  {
   "cell_type": "code",
   "execution_count": 150,
   "metadata": {},
   "outputs": [],
   "source": [
    "data = []\n",
    "for chinese_restaurant in chinese_restaurants:\n",
    "    try :\n",
    "        attributes = chinese_restaurant[\"attributes\"]\n",
    "        ambience = json.loads(attributes[\"Ambience\"].replace(\"'\", '\"').replace(\"False\", \"0\").replace(\"True\", \"1\"))\n",
    "        data.append({\n",
    "            \"id\": chinese_restaurant[\"business_id\"],\n",
    "            \"name\": chinese_restaurant[\"name\"],\n",
    "            \"address\": chinese_restaurant[\"address\"],\n",
    "            \"city\": chinese_restaurant[\"city\"],\n",
    "            \"state\": chinese_restaurant[\"state\"],\n",
    "            \"postal_code\": chinese_restaurant[\"postal_code\"],      \n",
    "            \"latitude\": chinese_restaurant[\"latitude\"],\n",
    "            \"longitude\": chinese_restaurant[\"longitude\"],\n",
    "            \"stars\": chinese_restaurant[\"stars\"],\n",
    "            \"review_count\": chinese_restaurant[\"review_count\"],    \n",
    "            \"noise_level\": attributes[\"NoiseLevel\"].replace(\"u'\", \"\").replace(\"'\", \"\"),\n",
    "            \"price_range\": attributes[\"RestaurantsPriceRange2\"],\n",
    "            \"has_take_out\": attributes[\"RestaurantsTakeOut\"],\n",
    "            \"has_parking_space\": any(json.loads(attributes[\"BusinessParking\"].replace(\"'\", '\"').replace(\"False\", \"0\").replace(\"True\", \"1\")).values()),\n",
    "            \"reservation_needed\": attributes[\"RestaurantsReservations\"],\n",
    "            \"romantic\": ambience[\"romantic\"],\n",
    "            \"intimate\": ambience[\"intimate\"],\n",
    "            \"classy\": ambience[\"classy\"],\n",
    "            \"trendy\": ambience[\"trendy\"],\n",
    "            \"upscale\": ambience[\"upscale\"],\n",
    "            \"casual\": ambience[\"casual\"],\n",
    "            \"categories\": chinese_restaurant[\"categories\"]\n",
    "        })\n",
    "        i += 1\n",
    "    except:\n",
    "        continue"
   ]
  },
  {
   "cell_type": "code",
   "execution_count": 151,
   "metadata": {},
   "outputs": [],
   "source": [
    "for photo in photos:\n",
    "    business_id = photo[\"business_id\"]\n",
    "    photo_id = photo[\"photo_id\"]\n",
    "    for item in data:\n",
    "        if item[\"id\"] == business_id:\n",
    "            item[\"photo_id\"] = photo_id"
   ]
  },
  {
   "cell_type": "code",
   "execution_count": 152,
   "metadata": {},
   "outputs": [
    {
     "data": {
      "text/plain": [
       "1829"
      ]
     },
     "execution_count": 152,
     "metadata": {},
     "output_type": "execute_result"
    }
   ],
   "source": [
    "len(data)"
   ]
  },
  {
   "cell_type": "code",
   "execution_count": 153,
   "metadata": {},
   "outputs": [],
   "source": [
    "def tableGenerator(key):\n",
    "    ls = sorted(list(set([data[key] for data in data]))) # To get a sorted list of strings with no duplicates\n",
    "    t = []\n",
    "    for i in range(len(ls)):\n",
    "        t.append({\n",
    "            \"id\": i + 1,\n",
    "            \"name\": ls[i]\n",
    "        })\n",
    "    return t\n",
    "\n",
    "states = tableGenerator(\"state\")"
   ]
  },
  {
   "cell_type": "code",
   "execution_count": 161,
   "metadata": {},
   "outputs": [],
   "source": [
    "city_list = []\n",
    "for item in data:\n",
    "    city_list.append({\n",
    "        \"name\": item[\"city\"],\n",
    "        \"state\": item[\"state\"]\n",
    "    })\n",
    "\n",
    "cities = []\n",
    "visited = set()\n",
    "for c in city_list:\n",
    "    city_name = c[\"name\"]\n",
    "    if city_name not in visited:\n",
    "        cities.append(c)\n",
    "        visited.add(city_name)\n",
    "        \n",
    "cities2 = []\n",
    "for i in range(len(cities)):\n",
    "    state_name = cities[i][\"state\"]\n",
    "    state_id = list(filter(lambda state: state[\"name\"] == state_name, states))[0][\"id\"]\n",
    "    cities2.append({\n",
    "        \"id\": i+1,\n",
    "        \"name\": cities[i][\"name\"],\n",
    "        \"state_id\": state_id\n",
    "    })\n",
    "    \n",
    "cities = cities2"
   ]
  },
  {
   "cell_type": "code",
   "execution_count": 154,
   "metadata": {},
   "outputs": [],
   "source": [
    "def tableGenerator3(key):\n",
    "    flatten = lambda l: [item for sublist in l for item in sublist]\n",
    "    ls = sorted(list(set(flatten([data[key].split(\", \") for data in data])))) # To get a sorted list of strings with no duplicates\n",
    "    t = []\n",
    "    for i in range(len(ls)):\n",
    "        t.append({\n",
    "            \"id\": i + 1,\n",
    "            \"name\": ls[i]\n",
    "        })\n",
    "    return t\n",
    "\n",
    "categories = tableGenerator3(\"categories\")"
   ]
  },
  {
   "cell_type": "code",
   "execution_count": 162,
   "metadata": {},
   "outputs": [
    {
     "name": "stdout",
     "output_type": "stream",
     "text": [
      "[{'id': 1, 'name': 'Phoenix', 'state_id': 2}, {'id': 2, 'name': 'Scottsdale', 'state_id': 2}, {'id': 3, 'name': 'Henderson', 'state_id': 5}, {'id': 4, 'name': 'Richmond Hill', 'state_id': 7}, {'id': 5, 'name': 'Scarborough', 'state_id': 7}, {'id': 6, 'name': 'Urbana', 'state_id': 3}, {'id': 7, 'name': 'Matthews', 'state_id': 4}, {'id': 8, 'name': 'Gilbert', 'state_id': 2}, {'id': 9, 'name': 'Las Vegas', 'state_id': 5}, {'id': 10, 'name': 'Mississauga', 'state_id': 7}, {'id': 11, 'name': 'Toronto', 'state_id': 7}, {'id': 12, 'name': 'Chandler', 'state_id': 2}, {'id': 13, 'name': 'Etobicoke', 'state_id': 7}, {'id': 14, 'name': 'Parma', 'state_id': 6}, {'id': 15, 'name': 'Medina', 'state_id': 6}, {'id': 16, 'name': 'Markham', 'state_id': 7}, {'id': 17, 'name': 'Charlotte', 'state_id': 4}, {'id': 18, 'name': 'Calgary', 'state_id': 1}, {'id': 19, 'name': 'Montréal', 'state_id': 9}, {'id': 20, 'name': 'Monroeville', 'state_id': 8}, {'id': 21, 'name': 'Thornhill', 'state_id': 7}, {'id': 22, 'name': 'Rocky River', 'state_id': 6}, {'id': 23, 'name': 'Brunswick', 'state_id': 6}, {'id': 24, 'name': 'Middleton', 'state_id': 11}, {'id': 25, 'name': 'Madison', 'state_id': 11}, {'id': 26, 'name': 'McMurray', 'state_id': 8}, {'id': 27, 'name': 'Pineville', 'state_id': 4}, {'id': 28, 'name': 'Brampton', 'state_id': 7}, {'id': 29, 'name': 'Goodyear', 'state_id': 2}, {'id': 30, 'name': 'Pickering', 'state_id': 7}, {'id': 31, 'name': 'Pittsburgh', 'state_id': 8}, {'id': 32, 'name': 'North York', 'state_id': 7}, {'id': 33, 'name': 'Georgetown', 'state_id': 7}, {'id': 34, 'name': 'Cuyahoga Falls', 'state_id': 6}, {'id': 35, 'name': 'Hampton Township', 'state_id': 8}, {'id': 36, 'name': 'Mesa', 'state_id': 2}, {'id': 37, 'name': 'Pleasant Hills', 'state_id': 8}, {'id': 38, 'name': 'Denver', 'state_id': 4}, {'id': 39, 'name': 'Tempe', 'state_id': 2}, {'id': 40, 'name': 'Cleveland', 'state_id': 6}, {'id': 41, 'name': 'Laval', 'state_id': 9}, {'id': 42, 'name': 'North Royalton', 'state_id': 6}, {'id': 43, 'name': 'Stoughton', 'state_id': 11}, {'id': 44, 'name': 'North Las Vegas', 'state_id': 5}, {'id': 45, 'name': 'Peoria', 'state_id': 2}, {'id': 46, 'name': 'Cornelius', 'state_id': 4}, {'id': 47, 'name': 'Amherst', 'state_id': 6}, {'id': 48, 'name': 'Lakewood', 'state_id': 6}, {'id': 49, 'name': 'Champaign', 'state_id': 3}, {'id': 50, 'name': 'North Olmsted', 'state_id': 6}, {'id': 51, 'name': 'Bellevue', 'state_id': 8}, {'id': 52, 'name': 'Independence', 'state_id': 6}, {'id': 53, 'name': 'Willoughby', 'state_id': 6}, {'id': 54, 'name': 'Vaughan', 'state_id': 7}, {'id': 55, 'name': 'Indian Trail', 'state_id': 4}, {'id': 56, 'name': 'Fort Mill', 'state_id': 10}, {'id': 57, 'name': 'Glendale', 'state_id': 2}, {'id': 58, 'name': 'Monona', 'state_id': 11}, {'id': 59, 'name': 'South Euclid', 'state_id': 6}, {'id': 60, 'name': 'Chesterland', 'state_id': 6}, {'id': 61, 'name': 'McMasterville', 'state_id': 9}, {'id': 62, 'name': 'Westlake', 'state_id': 6}, {'id': 63, 'name': 'Surprise', 'state_id': 2}, {'id': 64, 'name': 'Rexdale', 'state_id': 7}, {'id': 65, 'name': 'Bridgeville', 'state_id': 8}, {'id': 66, 'name': 'Boulder City', 'state_id': 5}, {'id': 67, 'name': 'Saint-Laurent', 'state_id': 9}, {'id': 68, 'name': 'Oakdale', 'state_id': 8}, {'id': 69, 'name': 'Oakville', 'state_id': 7}, {'id': 70, 'name': 'Eastlake', 'state_id': 6}, {'id': 71, 'name': 'Sun City West', 'state_id': 2}, {'id': 72, 'name': 'Strongsville', 'state_id': 6}, {'id': 73, 'name': 'Stouffville', 'state_id': 7}, {'id': 74, 'name': 'West View', 'state_id': 8}, {'id': 75, 'name': 'Sewickley', 'state_id': 8}, {'id': 76, 'name': 'West Mifflin', 'state_id': 8}, {'id': 77, 'name': 'Avondale', 'state_id': 2}, {'id': 78, 'name': 'Concord', 'state_id': 4}, {'id': 79, 'name': 'Fountain Hills', 'state_id': 2}, {'id': 80, 'name': 'Euclid', 'state_id': 6}, {'id': 81, 'name': 'Oakmont', 'state_id': 8}, {'id': 82, 'name': 'Twinsburg', 'state_id': 6}, {'id': 83, 'name': 'Verona', 'state_id': 11}, {'id': 84, 'name': 'Shaker Heights', 'state_id': 6}, {'id': 85, 'name': 'Mentor', 'state_id': 6}, {'id': 86, 'name': 'Canonsburg', 'state_id': 8}, {'id': 87, 'name': 'Irwin', 'state_id': 8}, {'id': 88, 'name': 'Chagrin Falls', 'state_id': 6}, {'id': 89, 'name': 'Brossard', 'state_id': 9}, {'id': 90, 'name': 'Aurora', 'state_id': 6}, {'id': 91, 'name': 'Cramerton', 'state_id': 4}, {'id': 92, 'name': 'Tarentum', 'state_id': 8}, {'id': 93, 'name': 'York', 'state_id': 7}, {'id': 94, 'name': 'Lorain', 'state_id': 6}, {'id': 95, 'name': 'Beachwood', 'state_id': 6}, {'id': 96, 'name': 'North Ridgeville', 'state_id': 6}, {'id': 97, 'name': 'Airdrie', 'state_id': 1}, {'id': 98, 'name': 'Stow', 'state_id': 6}, {'id': 99, 'name': 'Shaler Township', 'state_id': 8}, {'id': 100, 'name': 'Wexford', 'state_id': 8}, {'id': 101, 'name': 'Dollard-des-Ormeaux', 'state_id': 9}, {'id': 102, 'name': 'Verdun', 'state_id': 9}, {'id': 103, 'name': 'Coraopolis', 'state_id': 8}, {'id': 104, 'name': 'Newmarket', 'state_id': 7}, {'id': 105, 'name': 'Cleveland Heights', 'state_id': 6}, {'id': 106, 'name': 'Harrisburg', 'state_id': 4}, {'id': 107, 'name': 'Olmsted Falls', 'state_id': 6}, {'id': 108, 'name': 'Brecksville', 'state_id': 6}, {'id': 109, 'name': 'Willowick', 'state_id': 6}, {'id': 110, 'name': 'Waxhaw', 'state_id': 4}, {'id': 111, 'name': 'Avon Lake', 'state_id': 6}, {'id': 112, 'name': 'Ajax', 'state_id': 7}, {'id': 113, 'name': 'Montreal', 'state_id': 9}, {'id': 114, 'name': 'Solon', 'state_id': 6}, {'id': 115, 'name': 'Gibsonia', 'state_id': 8}, {'id': 116, 'name': \"L'Île-Perrot\", 'state_id': 9}, {'id': 117, 'name': 'West Homestead', 'state_id': 8}, {'id': 118, 'name': 'Kent', 'state_id': 6}, {'id': 119, 'name': 'Huntersville', 'state_id': 4}, {'id': 120, 'name': 'Akron', 'state_id': 6}, {'id': 121, 'name': 'Mahomet', 'state_id': 3}, {'id': 122, 'name': 'Willoughby Hills', 'state_id': 6}, {'id': 123, 'name': 'Belmont', 'state_id': 4}, {'id': 124, 'name': 'Bethel Park', 'state_id': 8}, {'id': 125, 'name': 'Unionville', 'state_id': 7}, {'id': 126, 'name': 'Warrensville Heights', 'state_id': 6}, {'id': 127, 'name': 'Fairlawn', 'state_id': 6}, {'id': 128, 'name': 'Streetsboro', 'state_id': 6}, {'id': 129, 'name': 'Waunakee', 'state_id': 11}, {'id': 130, 'name': 'Tallmadge', 'state_id': 6}, {'id': 131, 'name': 'Cottage Grove', 'state_id': 11}, {'id': 132, 'name': 'Paradise Valley', 'state_id': 2}, {'id': 133, 'name': 'Cross Plains', 'state_id': 11}, {'id': 134, 'name': 'Mc Farland', 'state_id': 11}, {'id': 135, 'name': 'Stallings', 'state_id': 4}, {'id': 136, 'name': 'Arnold', 'state_id': 8}, {'id': 137, 'name': 'Mentor-on-the-Lake', 'state_id': 6}, {'id': 138, 'name': 'Whitby', 'state_id': 7}, {'id': 139, 'name': 'Bolton', 'state_id': 7}, {'id': 140, 'name': 'LaSalle', 'state_id': 9}, {'id': 141, 'name': 'Mc Donald', 'state_id': 8}, {'id': 142, 'name': 'Munhall', 'state_id': 8}, {'id': 143, 'name': 'Rock Hill', 'state_id': 10}, {'id': 144, 'name': 'Sun Lakes', 'state_id': 2}, {'id': 145, 'name': 'Berea', 'state_id': 6}, {'id': 146, 'name': 'Gastonia', 'state_id': 4}, {'id': 147, 'name': 'Middlefield', 'state_id': 6}, {'id': 148, 'name': 'Saint-Jérôme', 'state_id': 9}, {'id': 149, 'name': 'Tolleson', 'state_id': 2}, {'id': 150, 'name': 'Chardon', 'state_id': 6}, {'id': 151, 'name': 'New Kensington', 'state_id': 8}, {'id': 152, 'name': 'Sun City', 'state_id': 2}, {'id': 153, 'name': 'Pointe-Claire', 'state_id': 9}, {'id': 154, 'name': 'Murrysville', 'state_id': 8}, {'id': 155, 'name': 'Litchfield Park', 'state_id': 2}, {'id': 156, 'name': 'Parma Heights', 'state_id': 6}, {'id': 157, 'name': 'Saint-Jean-sur-Richelieu', 'state_id': 9}, {'id': 158, 'name': 'Cave Creek', 'state_id': 2}, {'id': 159, 'name': 'Wesley Chapel', 'state_id': 4}, {'id': 160, 'name': 'Sheffield Lake', 'state_id': 6}, {'id': 161, 'name': 'Northfield', 'state_id': 6}, {'id': 162, 'name': 'Saint-Léonard', 'state_id': 9}, {'id': 163, 'name': 'Kannapolis', 'state_id': 4}, {'id': 164, 'name': 'Fitchburg', 'state_id': 11}, {'id': 165, 'name': 'Savoy', 'state_id': 3}, {'id': 166, 'name': 'McKeesport', 'state_id': 8}, {'id': 167, 'name': 'East York', 'state_id': 7}, {'id': 168, 'name': 'Elyria', 'state_id': 6}, {'id': 169, 'name': 'Mount Holly', 'state_id': 4}, {'id': 170, 'name': 'Maple', 'state_id': 7}, {'id': 171, 'name': 'Homestead', 'state_id': 8}, {'id': 172, 'name': 'Bay Village', 'state_id': 6}, {'id': 173, 'name': 'Mooresville', 'state_id': 4}, {'id': 174, 'name': 'Maple Heights', 'state_id': 6}, {'id': 175, 'name': 'Glassport', 'state_id': 8}, {'id': 176, 'name': 'Indian land', 'state_id': 10}, {'id': 177, 'name': 'Bedford', 'state_id': 6}, {'id': 178, 'name': 'Hudson', 'state_id': 6}, {'id': 179, 'name': 'Wickliffe', 'state_id': 6}, {'id': 180, 'name': 'DeForest', 'state_id': 11}, {'id': 181, 'name': 'Broadview Heights', 'state_id': 6}, {'id': 182, 'name': 'Mississuaga', 'state_id': 7}, {'id': 183, 'name': 'Avon', 'state_id': 6}, {'id': 184, 'name': 'Oakland', 'state_id': 8}, {'id': 185, 'name': 'springdale', 'state_id': 8}]\n"
     ]
    }
   ],
   "source": [
    "#print(states)\n",
    "print(cities)\n",
    "#print(categories)"
   ]
  },
  {
   "cell_type": "code",
   "execution_count": null,
   "metadata": {},
   "outputs": [],
   "source": []
  },
  {
   "cell_type": "code",
   "execution_count": 115,
   "metadata": {},
   "outputs": [
    {
     "data": {
      "text/plain": [
       "837"
      ]
     },
     "execution_count": 115,
     "metadata": {},
     "output_type": "execute_result"
    }
   ],
   "source": [
    "url = \"https://s3-media1.fl.yelpcdn.com/bphoto/K3xBm37XKp20xGS6c438iw/o.jpg\""
   ]
  },
  {
   "cell_type": "code",
   "execution_count": 163,
   "metadata": {},
   "outputs": [],
   "source": [
    "with open(\"Desktop/ziyu/where-is-my-chinese-restaurant/data/cities.json\", 'w') as json_file:\n",
    "    json_file.write(json.dumps(cities))"
   ]
  },
  {
   "cell_type": "code",
   "execution_count": 157,
   "metadata": {},
   "outputs": [],
   "source": [
    "with open(\"Desktop/ziyu/where-is-my-chinese-restaurant/data/states.json\", 'w') as json_file:\n",
    "    json_file.write(json.dumps(states))"
   ]
  },
  {
   "cell_type": "code",
   "execution_count": 158,
   "metadata": {},
   "outputs": [],
   "source": [
    "with open(\"Desktop/ziyu/where-is-my-chinese-restaurant/data/categories.json\", 'w') as json_file:\n",
    "    json_file.write(json.dumps(categories))"
   ]
  },
  {
   "cell_type": "code",
   "execution_count": 159,
   "metadata": {},
   "outputs": [],
   "source": [
    "with open(\"Desktop/ziyu/where-is-my-chinese-restaurant/data/data.json\", 'w') as json_file:\n",
    "    json_file.write(json.dumps(data))"
   ]
  },
  {
   "cell_type": "code",
   "execution_count": null,
   "metadata": {},
   "outputs": [],
   "source": []
  }
 ],
 "metadata": {
  "kernelspec": {
   "display_name": "Python 3",
   "language": "python",
   "name": "python3"
  },
  "language_info": {
   "codemirror_mode": {
    "name": "ipython",
    "version": 3
   },
   "file_extension": ".py",
   "mimetype": "text/x-python",
   "name": "python",
   "nbconvert_exporter": "python",
   "pygments_lexer": "ipython3",
   "version": "3.7.4"
  }
 },
 "nbformat": 4,
 "nbformat_minor": 4
}
